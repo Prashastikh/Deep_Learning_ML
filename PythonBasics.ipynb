{
  "nbformat": 4,
  "nbformat_minor": 0,
  "metadata": {
    "colab": {
      "name": "PythonBasics.ipynb",
      "provenance": []
    },
    "kernelspec": {
      "name": "python3",
      "display_name": "Python 3"
    }
  },
  "cells": [
    {
      "cell_type": "markdown",
      "metadata": {
        "id": "j1CmoMjvWr9w",
        "colab_type": "text"
      },
      "source": [
        "#Simple Linux Commands\n"
      ]
    },
    {
      "cell_type": "code",
      "metadata": {
        "id": "C8bUMn7mS4qh",
        "colab_type": "code",
        "outputId": "9a303ef1-5087-4422-b531-7c38590014ce",
        "colab": {
          "base_uri": "https://localhost:8080/",
          "height": 34
        }
      },
      "source": [
        "!ls"
      ],
      "execution_count": 1,
      "outputs": [
        {
          "output_type": "stream",
          "text": [
            "sample_data\n"
          ],
          "name": "stdout"
        }
      ]
    },
    {
      "cell_type": "code",
      "metadata": {
        "id": "QrUHVmIUUP_s",
        "colab_type": "code",
        "colab": {}
      },
      "source": [
        "!cat /proc/cpuinfo"
      ],
      "execution_count": 0,
      "outputs": []
    },
    {
      "cell_type": "code",
      "metadata": {
        "id": "-jtLax58UlGK",
        "colab_type": "code",
        "colab": {}
      },
      "source": [
        "!cat /proc/meminfo"
      ],
      "execution_count": 0,
      "outputs": []
    },
    {
      "cell_type": "markdown",
      "metadata": {
        "id": "Ow8nBCDzW2jx",
        "colab_type": "text"
      },
      "source": [
        "# Basic data types\n"
      ]
    },
    {
      "cell_type": "code",
      "metadata": {
        "id": "kbPnKungW8pE",
        "colab_type": "code",
        "outputId": "2d28ee44-f5ab-40c1-83e0-9871304ea0ce",
        "colab": {
          "base_uri": "https://localhost:8080/",
          "height": 52
        }
      },
      "source": [
        "name = 'Prashasti'\n",
        "rank = 1\n",
        "stars = 4.5\n",
        "print(name)\n",
        "type(stars)"
      ],
      "execution_count": 4,
      "outputs": [
        {
          "output_type": "stream",
          "text": [
            "Prashasti\n"
          ],
          "name": "stdout"
        },
        {
          "output_type": "execute_result",
          "data": {
            "text/plain": [
              "float"
            ]
          },
          "metadata": {
            "tags": []
          },
          "execution_count": 4
        }
      ]
    },
    {
      "cell_type": "code",
      "metadata": {
        "id": "OYvv0oI8Yr7d",
        "colab_type": "code",
        "outputId": "96fba190-aba9-477c-e40c-92cce7d63758",
        "colab": {
          "base_uri": "https://localhost:8080/",
          "height": 34
        }
      },
      "source": [
        "type(name)"
      ],
      "execution_count": 5,
      "outputs": [
        {
          "output_type": "execute_result",
          "data": {
            "text/plain": [
              "str"
            ]
          },
          "metadata": {
            "tags": []
          },
          "execution_count": 5
        }
      ]
    },
    {
      "cell_type": "code",
      "metadata": {
        "id": "85mABIMkZEos",
        "colab_type": "code",
        "outputId": "35f9e46a-666f-4666-882b-8bb294c0d978",
        "colab": {
          "base_uri": "https://localhost:8080/",
          "height": 34
        }
      },
      "source": [
        "type(rank)"
      ],
      "execution_count": 6,
      "outputs": [
        {
          "output_type": "execute_result",
          "data": {
            "text/plain": [
              "int"
            ]
          },
          "metadata": {
            "tags": []
          },
          "execution_count": 6
        }
      ]
    },
    {
      "cell_type": "markdown",
      "metadata": {
        "id": "1K9lJ32zZX2X",
        "colab_type": "text"
      },
      "source": [
        "# Basic Operations"
      ]
    },
    {
      "cell_type": "code",
      "metadata": {
        "id": "ZIksb9wIZaxR",
        "colab_type": "code",
        "outputId": "839307ff-b2c3-436a-b040-7fe3c807855c",
        "colab": {
          "base_uri": "https://localhost:8080/",
          "height": 34
        }
      },
      "source": [
        "a = 4\n",
        "b = 2\n",
        "print(a+b , a/b , a-b , a*b , a**b , a//b)"
      ],
      "execution_count": 7,
      "outputs": [
        {
          "output_type": "stream",
          "text": [
            "6 2.0 2 8 16 2\n"
          ],
          "name": "stdout"
        }
      ]
    },
    {
      "cell_type": "code",
      "metadata": {
        "id": "6TLJRvI0ZjKF",
        "colab_type": "code",
        "outputId": "459e88d9-c3ae-4fc4-f380-7ff45d012228",
        "colab": {
          "base_uri": "https://localhost:8080/",
          "height": 52
        }
      },
      "source": [
        "isgirl = True\n",
        "print(isgirl)\n",
        "type(isgirl)"
      ],
      "execution_count": 8,
      "outputs": [
        {
          "output_type": "stream",
          "text": [
            "True\n"
          ],
          "name": "stdout"
        },
        {
          "output_type": "execute_result",
          "data": {
            "text/plain": [
              "bool"
            ]
          },
          "metadata": {
            "tags": []
          },
          "execution_count": 8
        }
      ]
    },
    {
      "cell_type": "code",
      "metadata": {
        "id": "YudRk6ukdSfI",
        "colab_type": "code",
        "outputId": "73bc9887-5285-47d9-d6b0-59b2fc92bab6",
        "colab": {
          "base_uri": "https://localhost:8080/",
          "height": 34
        }
      },
      "source": [
        "print(isgirl == False and a == 2)"
      ],
      "execution_count": 9,
      "outputs": [
        {
          "output_type": "stream",
          "text": [
            "False\n"
          ],
          "name": "stdout"
        }
      ]
    },
    {
      "cell_type": "markdown",
      "metadata": {
        "id": "McjbavN9bVFr",
        "colab_type": "text"
      },
      "source": [
        "#Code Block"
      ]
    },
    {
      "cell_type": "code",
      "metadata": {
        "id": "wazMhq1KdkXo",
        "colab_type": "code",
        "outputId": "9542d8b9-c058-4eb8-925f-804e5f442d8b",
        "colab": {
          "base_uri": "https://localhost:8080/",
          "height": 70
        }
      },
      "source": [
        "if isgirl == True:\n",
        "  print(\"inside\")\n",
        "  print(\"1\")\n",
        "print(\"outside\")"
      ],
      "execution_count": 10,
      "outputs": [
        {
          "output_type": "stream",
          "text": [
            "inside\n",
            "1\n",
            "outside\n"
          ],
          "name": "stdout"
        }
      ]
    },
    {
      "cell_type": "code",
      "metadata": {
        "id": "rV9G-VieeZ_s",
        "colab_type": "code",
        "outputId": "c65bd1ed-2b75-4ce1-94f6-0e28c691b8aa",
        "colab": {
          "base_uri": "https://localhost:8080/",
          "height": 105
        }
      },
      "source": [
        "for i in range(5):\n",
        "  print(i,i*i)"
      ],
      "execution_count": 11,
      "outputs": [
        {
          "output_type": "stream",
          "text": [
            "0 0\n",
            "1 1\n",
            "2 4\n",
            "3 9\n",
            "4 16\n"
          ],
          "name": "stdout"
        }
      ]
    },
    {
      "cell_type": "code",
      "metadata": {
        "id": "vP_8vIpgeg6_",
        "colab_type": "code",
        "colab": {}
      },
      "source": [
        "range?"
      ],
      "execution_count": 0,
      "outputs": []
    },
    {
      "cell_type": "markdown",
      "metadata": {
        "id": "cZV3s_3fbQYV",
        "colab_type": "text"
      },
      "source": [
        "#Function"
      ]
    },
    {
      "cell_type": "code",
      "metadata": {
        "id": "IDEl99UteosV",
        "colab_type": "code",
        "colab": {}
      },
      "source": [
        "def print_value(stopval):\n",
        "  i=0\n",
        "  while i < stopval:\n",
        "    print(i,i**2)\n",
        "    i += 1\n"
      ],
      "execution_count": 0,
      "outputs": []
    },
    {
      "cell_type": "code",
      "metadata": {
        "id": "TpjaGVcKfZ0_",
        "colab_type": "code",
        "outputId": "b33af224-e8e9-4b49-e849-2ee7b5313da1",
        "colab": {
          "base_uri": "https://localhost:8080/",
          "height": 105
        }
      },
      "source": [
        "print_value(5)"
      ],
      "execution_count": 14,
      "outputs": [
        {
          "output_type": "stream",
          "text": [
            "0 0\n",
            "1 1\n",
            "2 4\n",
            "3 9\n",
            "4 16\n"
          ],
          "name": "stdout"
        }
      ]
    },
    {
      "cell_type": "code",
      "metadata": {
        "id": "8GSaY4yCfiKu",
        "colab_type": "code",
        "outputId": "cf59a5a9-06ce-44c0-84c1-f331d962cabb",
        "colab": {
          "base_uri": "https://localhost:8080/",
          "height": 141
        }
      },
      "source": [
        "print_value(7)"
      ],
      "execution_count": 15,
      "outputs": [
        {
          "output_type": "stream",
          "text": [
            "0 0\n",
            "1 1\n",
            "2 4\n",
            "3 9\n",
            "4 16\n",
            "5 25\n",
            "6 36\n"
          ],
          "name": "stdout"
        }
      ]
    },
    {
      "cell_type": "code",
      "metadata": {
        "id": "yqDEYbPufs0f",
        "colab_type": "code",
        "colab": {}
      },
      "source": [
        "def print_value_with_specified_start(stopval,startval = 0):\n",
        "  for i in range(stopval, startval):\n",
        "    print(i , i**2) "
      ],
      "execution_count": 0,
      "outputs": []
    },
    {
      "cell_type": "code",
      "metadata": {
        "id": "x5C2EAqhgwwK",
        "colab_type": "code",
        "colab": {}
      },
      "source": [
        "print_value_with_specified_start(5)"
      ],
      "execution_count": 0,
      "outputs": []
    },
    {
      "cell_type": "code",
      "metadata": {
        "id": "Ad4EGo-CUixo",
        "colab_type": "code",
        "colab": {}
      },
      "source": [
        "print_value_with_specified_start?"
      ],
      "execution_count": 0,
      "outputs": []
    },
    {
      "cell_type": "markdown",
      "metadata": {
        "id": "BSq685vdbMfF",
        "colab_type": "text"
      },
      "source": [
        "#List"
      ]
    },
    {
      "cell_type": "code",
      "metadata": {
        "id": "-zGbb-oxbOK3",
        "colab_type": "code",
        "colab": {}
      },
      "source": [
        "Detail = [name,rank,stars]"
      ],
      "execution_count": 0,
      "outputs": []
    },
    {
      "cell_type": "code",
      "metadata": {
        "id": "TPPg4fEmcMKi",
        "colab_type": "code",
        "outputId": "779bf37e-eae3-4f2c-f497-e31136d63a83",
        "colab": {
          "base_uri": "https://localhost:8080/"
        }
      },
      "source": [
        "type(Detail)"
      ],
      "execution_count": 0,
      "outputs": [
        {
          "output_type": "execute_result",
          "data": {
            "text/plain": [
              "list"
            ]
          },
          "metadata": {
            "tags": []
          },
          "execution_count": 222
        }
      ]
    },
    {
      "cell_type": "code",
      "metadata": {
        "id": "1NXUsij-cXxP",
        "colab_type": "code",
        "outputId": "1f5ddb73-c74a-430c-a586-2ad429ac56fa",
        "colab": {
          "base_uri": "https://localhost:8080/"
        }
      },
      "source": [
        "type(Detail[0])"
      ],
      "execution_count": 0,
      "outputs": [
        {
          "output_type": "execute_result",
          "data": {
            "text/plain": [
              "str"
            ]
          },
          "metadata": {
            "tags": []
          },
          "execution_count": 223
        }
      ]
    },
    {
      "cell_type": "code",
      "metadata": {
        "id": "4UKwciQocfkB",
        "colab_type": "code",
        "outputId": "7d62f783-b59d-49fc-e08d-daf4e1053655",
        "colab": {
          "base_uri": "https://localhost:8080/"
        }
      },
      "source": [
        "print(Detail)"
      ],
      "execution_count": 0,
      "outputs": [
        {
          "output_type": "stream",
          "text": [
            "['Prashasti', 1, 4.5]\n"
          ],
          "name": "stdout"
        }
      ]
    },
    {
      "cell_type": "code",
      "metadata": {
        "id": "E3dnBnk-ciuM",
        "colab_type": "code",
        "outputId": "b8653625-a93c-4ad4-a5ba-068202c197d7",
        "colab": {
          "base_uri": "https://localhost:8080/"
        }
      },
      "source": [
        "print(Detail[0:2])"
      ],
      "execution_count": 0,
      "outputs": [
        {
          "output_type": "stream",
          "text": [
            "['Prashasti', 1]\n"
          ],
          "name": "stdout"
        }
      ]
    },
    {
      "cell_type": "code",
      "metadata": {
        "id": "JeRfbZmwcodZ",
        "colab_type": "code",
        "outputId": "9e84757f-9c45-42b4-f24b-076b5b66cc67",
        "colab": {
          "base_uri": "https://localhost:8080/"
        }
      },
      "source": [
        "Register = Detail\n",
        "print(Register)"
      ],
      "execution_count": 0,
      "outputs": [
        {
          "output_type": "stream",
          "text": [
            "['Prashasti', 1, 4.5]\n"
          ],
          "name": "stdout"
        }
      ]
    },
    {
      "cell_type": "code",
      "metadata": {
        "id": "b4FytbIodE8m",
        "colab_type": "code",
        "colab": {}
      },
      "source": [
        "Detail[2] = 4"
      ],
      "execution_count": 0,
      "outputs": []
    },
    {
      "cell_type": "code",
      "metadata": {
        "id": "WMtUpfTgdWwP",
        "colab_type": "code",
        "outputId": "b10eef12-6975-4e3c-97f4-71318dcc2866",
        "colab": {
          "base_uri": "https://localhost:8080/"
        }
      },
      "source": [
        "print(Register)"
      ],
      "execution_count": 0,
      "outputs": [
        {
          "output_type": "stream",
          "text": [
            "['Prashasti', 1, 4]\n"
          ],
          "name": "stdout"
        }
      ]
    },
    {
      "cell_type": "markdown",
      "metadata": {
        "id": "CyT8p2J1da2C",
        "colab_type": "text"
      },
      "source": [
        "To avoid this copying(Reference passing) use list as a keyword while copying\n"
      ]
    },
    {
      "cell_type": "code",
      "metadata": {
        "id": "DJaLRGs8dZW0",
        "colab_type": "code",
        "colab": {}
      },
      "source": [
        "Register = list(Detail)\n",
        "# Detail[:] - This takes all the elements present in the list"
      ],
      "execution_count": 0,
      "outputs": []
    },
    {
      "cell_type": "code",
      "metadata": {
        "id": "X9TY7vkndm5U",
        "colab_type": "code",
        "colab": {}
      },
      "source": [
        "Detail[2] = 4.5"
      ],
      "execution_count": 0,
      "outputs": []
    },
    {
      "cell_type": "code",
      "metadata": {
        "id": "TZdh8QlZeEcO",
        "colab_type": "code",
        "outputId": "66eb66e8-cb26-4bbc-f615-9c60f37d06a8",
        "colab": {
          "base_uri": "https://localhost:8080/"
        }
      },
      "source": [
        "print(Detail)\n",
        "print(Register)"
      ],
      "execution_count": 0,
      "outputs": [
        {
          "output_type": "stream",
          "text": [
            "['Prashasti', 1, 4.5]\n",
            "['Prashasti', 1, 4]\n"
          ],
          "name": "stdout"
        }
      ]
    },
    {
      "cell_type": "code",
      "metadata": {
        "id": "UbAxSVy9eIae",
        "colab_type": "code",
        "outputId": "2710d3e7-7bb0-4f9d-df01-339828622dcd",
        "colab": {
          "base_uri": "https://localhost:8080/"
        }
      },
      "source": [
        "len(Detail)"
      ],
      "execution_count": 0,
      "outputs": [
        {
          "output_type": "execute_result",
          "data": {
            "text/plain": [
              "3"
            ]
          },
          "metadata": {
            "tags": []
          },
          "execution_count": 232
        }
      ]
    },
    {
      "cell_type": "code",
      "metadata": {
        "id": "dUOPuCP8ePAn",
        "colab_type": "code",
        "colab": {}
      },
      "source": [
        "Detail.append('6')"
      ],
      "execution_count": 0,
      "outputs": []
    },
    {
      "cell_type": "code",
      "metadata": {
        "id": "LVOZ3mJdeyRo",
        "colab_type": "code",
        "outputId": "e76eb6a4-5a68-42b1-9863-e245fa705a43",
        "colab": {
          "base_uri": "https://localhost:8080/"
        }
      },
      "source": [
        "print(Detail)"
      ],
      "execution_count": 0,
      "outputs": [
        {
          "output_type": "stream",
          "text": [
            "['Prashasti', 1, 4.5, '6']\n"
          ],
          "name": "stdout"
        }
      ]
    },
    {
      "cell_type": "markdown",
      "metadata": {
        "id": "1yh6nzJCfMvX",
        "colab_type": "text"
      },
      "source": [
        "Concatenating two lists\n"
      ]
    },
    {
      "cell_type": "code",
      "metadata": {
        "id": "YiX_VL08ezk4",
        "colab_type": "code",
        "colab": {}
      },
      "source": [
        "signin = [ 'Yes' , 12 , '13']"
      ],
      "execution_count": 0,
      "outputs": []
    },
    {
      "cell_type": "code",
      "metadata": {
        "id": "die8URR6fdfM",
        "colab_type": "code",
        "colab": {}
      },
      "source": [
        "Detail = Detail + signin"
      ],
      "execution_count": 0,
      "outputs": []
    },
    {
      "cell_type": "code",
      "metadata": {
        "id": "HgrIlYhMfhZb",
        "colab_type": "code",
        "outputId": "2df5d18b-e95e-4446-eae6-2b4494583b69",
        "colab": {
          "base_uri": "https://localhost:8080/"
        }
      },
      "source": [
        "print(Detail)"
      ],
      "execution_count": 0,
      "outputs": [
        {
          "output_type": "stream",
          "text": [
            "['Prashasti', 1, 4.5, '6', 'Yes', 12, '13']\n"
          ],
          "name": "stdout"
        }
      ]
    },
    {
      "cell_type": "code",
      "metadata": {
        "id": "1QHxHesRfifE",
        "colab_type": "code",
        "outputId": "2333d795-7409-4625-eed9-81f25d7f172d",
        "colab": {
          "base_uri": "https://localhost:8080/"
        }
      },
      "source": [
        "for data in Detail:\n",
        "  print(data)"
      ],
      "execution_count": 0,
      "outputs": [
        {
          "output_type": "stream",
          "text": [
            "Prashasti\n",
            "1\n",
            "4.5\n",
            "6\n",
            "Yes\n",
            "12\n",
            "13\n"
          ],
          "name": "stdout"
        }
      ]
    },
    {
      "cell_type": "code",
      "metadata": {
        "id": "seq8Ka3kfqbX",
        "colab_type": "code",
        "outputId": "1e5040b0-fb9c-4f34-e2a2-fed7d7e57779",
        "colab": {
          "base_uri": "https://localhost:8080/"
        }
      },
      "source": [
        "print(list(range(8)))"
      ],
      "execution_count": 0,
      "outputs": [
        {
          "output_type": "stream",
          "text": [
            "[0, 1, 2, 3, 4, 5, 6, 7]\n"
          ],
          "name": "stdout"
        }
      ]
    },
    {
      "cell_type": "code",
      "metadata": {
        "id": "BpWJ2SMwgAPf",
        "colab_type": "code",
        "colab": {}
      },
      "source": [
        "a = list(range(5))"
      ],
      "execution_count": 0,
      "outputs": []
    },
    {
      "cell_type": "code",
      "metadata": {
        "id": "Wa0SkdGBgeym",
        "colab_type": "code",
        "colab": {}
      },
      "source": [
        "b = list(map(lambda x: x**2 ,a))"
      ],
      "execution_count": 0,
      "outputs": []
    },
    {
      "cell_type": "code",
      "metadata": {
        "id": "3tlhuALqg8CD",
        "colab_type": "code",
        "outputId": "e9244588-304a-4ccf-a042-a4fe53f0755f",
        "colab": {
          "base_uri": "https://localhost:8080/"
        }
      },
      "source": [
        "print(b)"
      ],
      "execution_count": 0,
      "outputs": [
        {
          "output_type": "stream",
          "text": [
            "[0, 1, 4, 9, 16]\n"
          ],
          "name": "stdout"
        }
      ]
    },
    {
      "cell_type": "code",
      "metadata": {
        "id": "wnN_1k4Kg-m2",
        "colab_type": "code",
        "colab": {}
      },
      "source": [
        "c = list(filter(lambda x: x%2 ==0,b))"
      ],
      "execution_count": 0,
      "outputs": []
    },
    {
      "cell_type": "code",
      "metadata": {
        "id": "0Lz_uBGWhZhk",
        "colab_type": "code",
        "outputId": "f0cd7325-dd58-46e1-dbe5-535f256a1cb2",
        "colab": {
          "base_uri": "https://localhost:8080/"
        }
      },
      "source": [
        "print(c)"
      ],
      "execution_count": 0,
      "outputs": [
        {
          "output_type": "stream",
          "text": [
            "[0, 4, 16]\n"
          ],
          "name": "stdout"
        }
      ]
    },
    {
      "cell_type": "markdown",
      "metadata": {
        "id": "1jmW1GVOhtDC",
        "colab_type": "text"
      },
      "source": [
        "#Tuples"
      ]
    },
    {
      "cell_type": "code",
      "metadata": {
        "id": "Nn6KmIGrhsG9",
        "colab_type": "code",
        "outputId": "12b5e6c7-e30a-4f89-9c0c-726d0f3a3406",
        "colab": {
          "base_uri": "https://localhost:8080/"
        }
      },
      "source": [
        "Detail_tuple = (name,rank,stars)\n",
        "print(Detail_tuple)"
      ],
      "execution_count": 0,
      "outputs": [
        {
          "output_type": "stream",
          "text": [
            "('Prashasti', 1, 4.5)\n"
          ],
          "name": "stdout"
        }
      ]
    },
    {
      "cell_type": "code",
      "metadata": {
        "id": "iaOM5N7bhbwu",
        "colab_type": "code",
        "outputId": "6e6d6ade-9efc-4933-ddab-04af9203cbb4",
        "colab": {
          "base_uri": "https://localhost:8080/"
        }
      },
      "source": [
        "type(Detail_tuple)"
      ],
      "execution_count": 0,
      "outputs": [
        {
          "output_type": "execute_result",
          "data": {
            "text/plain": [
              "tuple"
            ]
          },
          "metadata": {
            "tags": []
          },
          "execution_count": 246
        }
      ]
    },
    {
      "cell_type": "markdown",
      "metadata": {
        "id": "iUC4f72EjOoG",
        "colab_type": "text"
      },
      "source": [
        "Time\n",
        "to Show tuple takes slightly lesser time than list"
      ]
    },
    {
      "cell_type": "code",
      "metadata": {
        "id": "dB71uwSRjI6e",
        "colab_type": "code",
        "colab": {}
      },
      "source": [
        "import time"
      ],
      "execution_count": 0,
      "outputs": []
    },
    {
      "cell_type": "code",
      "metadata": {
        "id": "fUy43QUejNit",
        "colab_type": "code",
        "outputId": "130c4fcf-eee3-47d0-98a9-3789e3a10692",
        "colab": {
          "base_uri": "https://localhost:8080/"
        }
      },
      "source": [
        "tic = time.time()\n",
        "# do the work here\n",
        "toc = time.time()\n",
        "print('Elapsed Time', (toc-tic))"
      ],
      "execution_count": 0,
      "outputs": [
        {
          "output_type": "stream",
          "text": [
            "Elapsed Time 4.3392181396484375e-05\n"
          ],
          "name": "stdout"
        }
      ]
    },
    {
      "cell_type": "code",
      "metadata": {
        "id": "sf6sc-ZRjdUR",
        "colab_type": "code",
        "outputId": "b33a991c-41f5-4913-8c40-3861a9822bd0",
        "colab": {
          "base_uri": "https://localhost:8080/"
        }
      },
      "source": [
        "mylist = list(range(1000000))\n",
        "tic = time.time()\n",
        "mylist_squared = list(map(lambda x:x**2,mylist))\n",
        "toc = time.time()\n",
        "print('Elapsed Time', (toc-tic))"
      ],
      "execution_count": 0,
      "outputs": [
        {
          "output_type": "stream",
          "text": [
            "Elapsed Time 0.3892059326171875\n"
          ],
          "name": "stdout"
        }
      ]
    },
    {
      "cell_type": "code",
      "metadata": {
        "id": "lHboF3cukFlc",
        "colab_type": "code",
        "outputId": "1fd6c2e2-8d9b-40d1-f6f6-a3b2bdbab7b0",
        "colab": {
          "base_uri": "https://localhost:8080/"
        }
      },
      "source": [
        "mytuple = tuple(range(1000000))\n",
        "tic = time.time()\n",
        "mytuple_squared = tuple(map(lambda x:x**2,mytuple))\n",
        "toc = time.time()\n",
        "print('Elapsed Time', (toc-tic))"
      ],
      "execution_count": 0,
      "outputs": [
        {
          "output_type": "stream",
          "text": [
            "Elapsed Time 0.444913387298584\n"
          ],
          "name": "stdout"
        }
      ]
    },
    {
      "cell_type": "markdown",
      "metadata": {
        "id": "kDvIrTtEk4VZ",
        "colab_type": "text"
      },
      "source": [
        "#Sets"
      ]
    },
    {
      "cell_type": "code",
      "metadata": {
        "id": "f0kaOrQXk5k2",
        "colab_type": "code",
        "outputId": "cca0dc56-a0de-42f0-cfc0-d464cc6c632a",
        "colab": {
          "base_uri": "https://localhost:8080/"
        }
      },
      "source": [
        "myset = set(Detail)\n",
        "print(myset)"
      ],
      "execution_count": 0,
      "outputs": [
        {
          "output_type": "stream",
          "text": [
            "{1, 4.5, '6', 'Prashasti', 12, 'Yes', '13'}\n"
          ],
          "name": "stdout"
        }
      ]
    },
    {
      "cell_type": "code",
      "metadata": {
        "id": "3CQRFlsxrpss",
        "colab_type": "code",
        "outputId": "81eea6bb-544a-4058-dea0-4545ca004bb2",
        "colab": {
          "base_uri": "https://localhost:8080/"
        }
      },
      "source": [
        "Detail.append(12)\n",
        "print(Detail)"
      ],
      "execution_count": 0,
      "outputs": [
        {
          "output_type": "stream",
          "text": [
            "['Prashasti', 1, 4.5, '6', 'Yes', 12, '13', 12]\n"
          ],
          "name": "stdout"
        }
      ]
    },
    {
      "cell_type": "code",
      "metadata": {
        "id": "HlPc9wuZryZI",
        "colab_type": "code",
        "outputId": "7ff17296-6153-426a-dce1-24a8c0d69418",
        "colab": {
          "base_uri": "https://localhost:8080/"
        }
      },
      "source": [
        "myset = set(Detail)\n",
        "print(myset)"
      ],
      "execution_count": 0,
      "outputs": [
        {
          "output_type": "stream",
          "text": [
            "{1, 4.5, '6', 'Prashasti', 12, 'Yes', '13'}\n"
          ],
          "name": "stdout"
        }
      ]
    },
    {
      "cell_type": "code",
      "metadata": {
        "id": "JNdQ5pE3r2ql",
        "colab_type": "code",
        "outputId": "426011b6-bce7-4b1e-f60b-6eb7954de50d",
        "colab": {
          "base_uri": "https://localhost:8080/"
        }
      },
      "source": [
        "my_list = list(range(10000000))\n",
        "tic = time.time()\n",
        "print(1993 in my_list)\n",
        "print(1450378 in my_list)\n",
        "print(1993435 in my_list)\n",
        "toc = time.time()\n",
        "print('elapsed time', toc-tic)"
      ],
      "execution_count": 0,
      "outputs": [
        {
          "output_type": "stream",
          "text": [
            "True\n",
            "True\n",
            "True\n",
            "elapsed time 0.04490327835083008\n"
          ],
          "name": "stdout"
        }
      ]
    },
    {
      "cell_type": "code",
      "metadata": {
        "id": "-Pm9V4IOs02y",
        "colab_type": "code",
        "outputId": "14c14116-cade-4695-cb90-0fcbda90217d",
        "colab": {
          "base_uri": "https://localhost:8080/"
        }
      },
      "source": [
        "my_set = set(range(10000000))\n",
        "tic = time.time()\n",
        "print(1993 in my_set)\n",
        "print(1450378 in my_set)\n",
        "print(1993435 in my_set)\n",
        "toc = time.time()\n",
        "print('elapsed time', toc-tic)"
      ],
      "execution_count": 0,
      "outputs": [
        {
          "output_type": "stream",
          "text": [
            "True\n",
            "True\n",
            "True\n",
            "elapsed time 0.0004284381866455078\n"
          ],
          "name": "stdout"
        }
      ]
    },
    {
      "cell_type": "markdown",
      "metadata": {
        "id": "bzZVD755tA3P",
        "colab_type": "text"
      },
      "source": [
        "# Dictionary"
      ]
    },
    {
      "cell_type": "code",
      "metadata": {
        "id": "Kflzw75gs8Pn",
        "colab_type": "code",
        "colab": {}
      },
      "source": [
        "my_detail = {}"
      ],
      "execution_count": 0,
      "outputs": []
    },
    {
      "cell_type": "code",
      "metadata": {
        "id": "nRW8rf2DteN4",
        "colab_type": "code",
        "outputId": "ad49cd39-fd81-4b14-f71a-145a07e89cf6",
        "colab": {
          "base_uri": "https://localhost:8080/"
        }
      },
      "source": [
        "type(my_detail)"
      ],
      "execution_count": 0,
      "outputs": [
        {
          "output_type": "execute_result",
          "data": {
            "text/plain": [
              "dict"
            ]
          },
          "metadata": {
            "tags": []
          },
          "execution_count": 257
        }
      ]
    },
    {
      "cell_type": "code",
      "metadata": {
        "id": "-Pc-W2gwtjNN",
        "colab_type": "code",
        "outputId": "aabef94f-5b6b-4863-bddf-e588723b4f8d",
        "colab": {
          "base_uri": "https://localhost:8080/"
        }
      },
      "source": [
        "my_detail['name'] = 'Prashasti'\n",
        "my_detail['rank'] = 1\n",
        "my_detail['star'] = 4.5\n",
        "my_detail['isgirl'] = True\n",
        "print(my_detail)"
      ],
      "execution_count": 0,
      "outputs": [
        {
          "output_type": "stream",
          "text": [
            "{'name': 'Prashasti', 'rank': 1, 'star': 4.5, 'isgirl': True}\n"
          ],
          "name": "stdout"
        }
      ]
    },
    {
      "cell_type": "code",
      "metadata": {
        "id": "qgMtmvUut-Rp",
        "colab_type": "code",
        "outputId": "50515096-3075-44b1-edc5-20854d04c888",
        "colab": {
          "base_uri": "https://localhost:8080/"
        }
      },
      "source": [
        "my_detail['name']"
      ],
      "execution_count": 0,
      "outputs": [
        {
          "output_type": "execute_result",
          "data": {
            "text/plain": [
              "'Prashasti'"
            ]
          },
          "metadata": {
            "tags": []
          },
          "execution_count": 259
        }
      ]
    },
    {
      "cell_type": "code",
      "metadata": {
        "id": "o06acm7fuD1j",
        "colab_type": "code",
        "outputId": "78311854-69af-4d11-cdfa-26d327452a82",
        "colab": {
          "base_uri": "https://localhost:8080/"
        }
      },
      "source": [
        "print(my_detail.keys())"
      ],
      "execution_count": 0,
      "outputs": [
        {
          "output_type": "stream",
          "text": [
            "dict_keys(['name', 'rank', 'star', 'isgirl'])\n"
          ],
          "name": "stdout"
        }
      ]
    },
    {
      "cell_type": "code",
      "metadata": {
        "id": "rTecf64iuSHA",
        "colab_type": "code",
        "outputId": "3edd0d79-3be0-47c6-90ab-561a27e478e0",
        "colab": {
          "base_uri": "https://localhost:8080/"
        }
      },
      "source": [
        "print(my_detail.values())"
      ],
      "execution_count": 0,
      "outputs": [
        {
          "output_type": "stream",
          "text": [
            "dict_values(['Prashasti', 1, 4.5, True])\n"
          ],
          "name": "stdout"
        }
      ]
    },
    {
      "cell_type": "code",
      "metadata": {
        "id": "59sHFG2VuXcA",
        "colab_type": "code",
        "outputId": "7c5c18a8-8386-497c-e7f4-d150cb1696df",
        "colab": {
          "base_uri": "https://localhost:8080/"
        }
      },
      "source": [
        "print(my_detail.items())"
      ],
      "execution_count": 0,
      "outputs": [
        {
          "output_type": "stream",
          "text": [
            "dict_items([('name', 'Prashasti'), ('rank', 1), ('star', 4.5), ('isgirl', True)])\n"
          ],
          "name": "stdout"
        }
      ]
    },
    {
      "cell_type": "code",
      "metadata": {
        "id": "nCWAL-aaukYi",
        "colab_type": "code",
        "outputId": "5127b9cb-5e19-4ab5-b57f-64c955ec7a46",
        "colab": {
          "base_uri": "https://localhost:8080/"
        }
      },
      "source": [
        "for  key in my_detail.keys():\n",
        "  print(key, \":\" , my_detail[key])"
      ],
      "execution_count": 0,
      "outputs": [
        {
          "output_type": "stream",
          "text": [
            "name : Prashasti\n",
            "rank : 1\n",
            "star : 4.5\n",
            "isgirl : True\n"
          ],
          "name": "stdout"
        }
      ]
    },
    {
      "cell_type": "markdown",
      "metadata": {
        "id": "_9vnAR-TxzOD",
        "colab_type": "text"
      },
      "source": [
        "# Packages"
      ]
    },
    {
      "cell_type": "code",
      "metadata": {
        "id": "1Ptwh81bx3Hw",
        "colab_type": "code",
        "colab": {}
      },
      "source": [
        "import math"
      ],
      "execution_count": 0,
      "outputs": []
    },
    {
      "cell_type": "code",
      "metadata": {
        "id": "En0APpSrx9eo",
        "colab_type": "code",
        "outputId": "20d110ef-3a17-426e-bee4-f5fa58e72cc5",
        "colab": {
          "base_uri": "https://localhost:8080/"
        }
      },
      "source": [
        "print(math.sqrt(100))"
      ],
      "execution_count": 0,
      "outputs": [
        {
          "output_type": "stream",
          "text": [
            "10.0\n"
          ],
          "name": "stdout"
        }
      ]
    },
    {
      "cell_type": "code",
      "metadata": {
        "id": "IuVdPYNyyDzV",
        "colab_type": "code",
        "outputId": "d916e7f3-de3e-40d6-ee68-073bea99fea1",
        "colab": {
          "base_uri": "https://localhost:8080/"
        }
      },
      "source": [
        "print(math.pow(100,0.3))"
      ],
      "execution_count": 0,
      "outputs": [
        {
          "output_type": "stream",
          "text": [
            "3.9810717055349722\n"
          ],
          "name": "stdout"
        }
      ]
    },
    {
      "cell_type": "code",
      "metadata": {
        "id": "vskokEVCyIAw",
        "colab_type": "code",
        "colab": {}
      },
      "source": [
        "from math import factorial"
      ],
      "execution_count": 0,
      "outputs": []
    },
    {
      "cell_type": "code",
      "metadata": {
        "id": "ZR27r_M7zHMu",
        "colab_type": "code",
        "outputId": "d957b8dc-5fba-4c4d-bebc-abd1ec5b9987",
        "colab": {
          "base_uri": "https://localhost:8080/"
        }
      },
      "source": [
        "print(factorial(100))"
      ],
      "execution_count": 0,
      "outputs": [
        {
          "output_type": "stream",
          "text": [
            "93326215443944152681699238856266700490715968264381621468592963895217599993229915608941463976156518286253697920827223758251185210916864000000000000000000000000\n"
          ],
          "name": "stdout"
        }
      ]
    },
    {
      "cell_type": "code",
      "metadata": {
        "id": "WYZcVYRvzJ9d",
        "colab_type": "code",
        "colab": {}
      },
      "source": [
        "!echo 'def hello():' >my_first_module.py\n",
        "!echo   'print(\"I am in the file\")' >my_first_module.py"
      ],
      "execution_count": 0,
      "outputs": []
    },
    {
      "cell_type": "code",
      "metadata": {
        "id": "HYip3qVrz4iy",
        "colab_type": "code",
        "outputId": "a7774ee4-0ace-41e1-e223-c2a567f91d55",
        "colab": {
          "base_uri": "https://localhost:8080/"
        }
      },
      "source": [
        "!cat my_first_module.py"
      ],
      "execution_count": 0,
      "outputs": [
        {
          "output_type": "stream",
          "text": [
            "print(\"I am in the file\")\n"
          ],
          "name": "stdout"
        }
      ]
    },
    {
      "cell_type": "markdown",
      "metadata": {
        "id": "lyQ53dRd09iD",
        "colab_type": "text"
      },
      "source": [
        "#File Handling"
      ]
    },
    {
      "cell_type": "code",
      "metadata": {
        "id": "BZ9VeVgO0_W4",
        "colab_type": "code",
        "outputId": "57e3da35-66ce-45d8-a189-ccb4cb36221c",
        "colab": {
          "base_uri": "https://localhost:8080/",
          "height": 204
        }
      },
      "source": [
        "!wget https://www.theweek.in/content/dam/week/pdf/THE-WEEK-MAY-24.pdf"
      ],
      "execution_count": 0,
      "outputs": [
        {
          "output_type": "stream",
          "text": [
            "--2020-05-15 19:36:12--  https://www.theweek.in/content/dam/week/pdf/THE-WEEK-MAY-24.pdf\n",
            "Resolving www.theweek.in (www.theweek.in)... 23.1.250.223, 2600:1402:f000:2a0::4a9, 2600:1402:f000:297::4a9\n",
            "Connecting to www.theweek.in (www.theweek.in)|23.1.250.223|:443... connected.\n",
            "HTTP request sent, awaiting response... 200 OK\n",
            "Length: 9237988 (8.8M) [application/pdf]\n",
            "Saving to: ‘THE-WEEK-MAY-24.pdf.1’\n",
            "\n",
            "\rTHE-WEEK-MAY-24.pdf   0%[                    ]       0  --.-KB/s               \rTHE-WEEK-MAY-24.pdf 100%[===================>]   8.81M  --.-KB/s    in 0.1s    \n",
            "\n",
            "2020-05-15 19:36:13 (60.2 MB/s) - ‘THE-WEEK-MAY-24.pdf.1’ saved [9237988/9237988]\n",
            "\n"
          ],
          "name": "stdout"
        }
      ]
    },
    {
      "cell_type": "code",
      "metadata": {
        "id": "gVcqhq2n1khL",
        "colab_type": "code",
        "outputId": "09d58c1b-f777-4163-a54b-78eff1bdfc26",
        "colab": {
          "base_uri": "https://localhost:8080/",
          "height": 51
        }
      },
      "source": [
        "!ls"
      ],
      "execution_count": 0,
      "outputs": [
        {
          "output_type": "stream",
          "text": [
            "my_first_module.py  THE-WEEK-MAY-24.csv  THE-WEEK-MAY-24.pdf.1\n",
            "sample_data\t    THE-WEEK-MAY-24.pdf\n"
          ],
          "name": "stdout"
        }
      ]
    },
    {
      "cell_type": "code",
      "metadata": {
        "id": "twLdKMZ-1zTv",
        "colab_type": "code",
        "colab": {}
      },
      "source": [
        "file = open('THE-WEEK-MAY-24.csv','r')"
      ],
      "execution_count": 0,
      "outputs": []
    },
    {
      "cell_type": "code",
      "metadata": {
        "id": "1VBzfZLP16c2",
        "colab_type": "code",
        "colab": {}
      },
      "source": [
        "s = file.readline()"
      ],
      "execution_count": 0,
      "outputs": []
    },
    {
      "cell_type": "code",
      "metadata": {
        "id": "LUQWwRys2JOl",
        "colab_type": "code",
        "outputId": "183fd8fb-b301-46a2-b0b6-fa1f24158ebc",
        "colab": {
          "base_uri": "https://localhost:8080/",
          "height": 34
        }
      },
      "source": [
        "print(s)"
      ],
      "execution_count": 0,
      "outputs": [
        {
          "output_type": "stream",
          "text": [
            "Hello\n"
          ],
          "name": "stdout"
        }
      ]
    },
    {
      "cell_type": "code",
      "metadata": {
        "id": "BgadxPEi2g9u",
        "colab_type": "code",
        "colab": {}
      },
      "source": [
        "with open('THE-WEEK-MAY-24.csv',''r') as file:\n",
        "  print(file.readline())"
      ],
      "execution_count": 0,
      "outputs": []
    },
    {
      "cell_type": "code",
      "metadata": {
        "id": "C57OL8fu3cIA",
        "colab_type": "code",
        "colab": {}
      },
      "source": [
        "with open('THE-WEEK-MAY-24.csv','r') as file:\n",
        "  for line in file:\n",
        "    for word in line.split(','):\n",
        "      print(word)\n",
        "    print(\"------\")"
      ],
      "execution_count": 0,
      "outputs": []
    },
    {
      "cell_type": "code",
      "metadata": {
        "id": "9O86e3lr33xk",
        "colab_type": "code",
        "colab": {}
      },
      "source": [
        "with open('THE-WEEK-MAY-24.csv','w') as file:\n",
        "  file.write(\"Hello\")"
      ],
      "execution_count": 0,
      "outputs": []
    },
    {
      "cell_type": "markdown",
      "metadata": {
        "id": "c5vdBP1w4bFS",
        "colab_type": "text"
      },
      "source": [
        "# Python Classes"
      ]
    },
    {
      "cell_type": "code",
      "metadata": {
        "id": "GtVAHb6S4UB3",
        "colab_type": "code",
        "colab": {}
      },
      "source": [
        "class MobilePhone:\n",
        "  def __init__(self,name,is_android = True , screen_size = 4.3):\n",
        "    self.name = name\n",
        "    self.is_android=is_android\n",
        "    self.screen_size=screen_size\n",
        "    self.rating = -1\n",
        "  def has_rating(self):\n",
        "    return self.rating >-1"
      ],
      "execution_count": 0,
      "outputs": []
    },
    {
      "cell_type": "code",
      "metadata": {
        "id": "AuXHF7aR49pl",
        "colab_type": "code",
        "colab": {}
      },
      "source": [
        "newphone = MobilePhone('samsung')"
      ],
      "execution_count": 0,
      "outputs": []
    },
    {
      "cell_type": "code",
      "metadata": {
        "id": "Hfv8_iSQ5DXN",
        "colab_type": "code",
        "colab": {}
      },
      "source": [
        "type(newphone)"
      ],
      "execution_count": 0,
      "outputs": []
    },
    {
      "cell_type": "code",
      "metadata": {
        "id": "xUYJXDrr5FI3",
        "colab_type": "code",
        "colab": {}
      },
      "source": [
        "print(newphone.name,newphone.is_android,newphone.screen_size)"
      ],
      "execution_count": 0,
      "outputs": []
    },
    {
      "cell_type": "code",
      "metadata": {
        "id": "luzB9E686Wr6",
        "colab_type": "code",
        "colab": {}
      },
      "source": [
        "newphone.has_rating()"
      ],
      "execution_count": 0,
      "outputs": []
    },
    {
      "cell_type": "code",
      "metadata": {
        "id": "I5LvtFKH7rDX",
        "colab_type": "code",
        "colab": {}
      },
      "source": [
        "newphone.rating = 4.3"
      ],
      "execution_count": 0,
      "outputs": []
    },
    {
      "cell_type": "code",
      "metadata": {
        "id": "qJvd37N88EYY",
        "colab_type": "code",
        "colab": {}
      },
      "source": [
        "newphone.has_rating()"
      ],
      "execution_count": 0,
      "outputs": []
    },
    {
      "cell_type": "code",
      "metadata": {
        "id": "Pi0JcXjP8GRR",
        "colab_type": "code",
        "colab": {}
      },
      "source": [
        "class iphone(MobilePhone):\n",
        "  def __init__(self,name):\n",
        "    MobilePhone.__init__(self,name,True,4.3)\n",
        "  def __str__(self):\n",
        "    return self.name + \" \" + str(self.is_android) + \" \" + str(self.screen_size)\n"
      ],
      "execution_count": 0,
      "outputs": []
    },
    {
      "cell_type": "code",
      "metadata": {
        "id": "qUFJV6Yl-PYa",
        "colab_type": "code",
        "colab": {}
      },
      "source": [
        "newiphone = iphone('iPhone 6')"
      ],
      "execution_count": 0,
      "outputs": []
    },
    {
      "cell_type": "code",
      "metadata": {
        "id": "cwNcI0hb-dF0",
        "colab_type": "code",
        "colab": {}
      },
      "source": [
        "newiphone.is_android"
      ],
      "execution_count": 0,
      "outputs": []
    },
    {
      "cell_type": "code",
      "metadata": {
        "id": "8jrSxc8Y-ieN",
        "colab_type": "code",
        "colab": {}
      },
      "source": [
        "print(newiphone)"
      ],
      "execution_count": 0,
      "outputs": []
    },
    {
      "cell_type": "markdown",
      "metadata": {
        "id": "LGhBGIiy_kFh",
        "colab_type": "text"
      },
      "source": [
        "#Numpy"
      ]
    },
    {
      "cell_type": "code",
      "metadata": {
        "id": "XBqbKc6o_l_X",
        "colab_type": "code",
        "colab": {}
      },
      "source": [
        "import numpy as np"
      ],
      "execution_count": 0,
      "outputs": []
    },
    {
      "cell_type": "code",
      "metadata": {
        "id": "3DkMzqWf_qcl",
        "colab_type": "code",
        "colab": {}
      },
      "source": [
        "x = np.array([1,2,3])\n",
        "print(x)"
      ],
      "execution_count": 0,
      "outputs": []
    },
    {
      "cell_type": "code",
      "metadata": {
        "id": "P0MDI_qS_1Sc",
        "colab_type": "code",
        "colab": {}
      },
      "source": [
        "type(x)"
      ],
      "execution_count": 0,
      "outputs": []
    },
    {
      "cell_type": "code",
      "metadata": {
        "id": "43QLqXNU_6HD",
        "colab_type": "code",
        "colab": {}
      },
      "source": [
        "l = [4,6,7]\n",
        "y = np.asarray(l,float)"
      ],
      "execution_count": 0,
      "outputs": []
    },
    {
      "cell_type": "code",
      "metadata": {
        "id": "-jXayL3yApLo",
        "colab_type": "code",
        "colab": {}
      },
      "source": [
        "print(y)"
      ],
      "execution_count": 0,
      "outputs": []
    },
    {
      "cell_type": "code",
      "metadata": {
        "id": "P4EbU9AHArWj",
        "colab_type": "code",
        "colab": {}
      },
      "source": [
        "y.shape"
      ],
      "execution_count": 0,
      "outputs": []
    },
    {
      "cell_type": "code",
      "metadata": {
        "id": "TWPJzZuVAxl3",
        "colab_type": "code",
        "colab": {}
      },
      "source": [
        "Z= np.array([[1,2,5,6],[3,4,8,1]])\n",
        "print(Z)"
      ],
      "execution_count": 0,
      "outputs": []
    },
    {
      "cell_type": "code",
      "metadata": {
        "id": "QpEfbWA0BPil",
        "colab_type": "code",
        "colab": {}
      },
      "source": [
        "Z.shape"
      ],
      "execution_count": 0,
      "outputs": []
    },
    {
      "cell_type": "code",
      "metadata": {
        "id": "BhPEKrOgBw73",
        "colab_type": "code",
        "colab": {}
      },
      "source": [
        "Z[0,:]"
      ],
      "execution_count": 0,
      "outputs": []
    },
    {
      "cell_type": "code",
      "metadata": {
        "id": "SD-Hq7PrB47Z",
        "colab_type": "code",
        "colab": {}
      },
      "source": [
        "Z[0,0:2]"
      ],
      "execution_count": 0,
      "outputs": []
    },
    {
      "cell_type": "code",
      "metadata": {
        "id": "xt3wd7opB7gk",
        "colab_type": "code",
        "colab": {}
      },
      "source": [
        "M = np.zeros((4,5))"
      ],
      "execution_count": 0,
      "outputs": []
    },
    {
      "cell_type": "code",
      "metadata": {
        "id": "j-AjVdqXCCg5",
        "colab_type": "code",
        "colab": {}
      },
      "source": [
        "print(M)"
      ],
      "execution_count": 0,
      "outputs": []
    },
    {
      "cell_type": "code",
      "metadata": {
        "id": "ZWZefji3CNKJ",
        "colab_type": "code",
        "colab": {}
      },
      "source": [
        "M = np.eye(4,4)"
      ],
      "execution_count": 0,
      "outputs": []
    },
    {
      "cell_type": "code",
      "metadata": {
        "id": "HEbe6Sh9Cbys",
        "colab_type": "code",
        "colab": {}
      },
      "source": [
        "N =np.random.random((4,5))\n",
        "print(N)"
      ],
      "execution_count": 0,
      "outputs": []
    },
    {
      "cell_type": "code",
      "metadata": {
        "id": "UMbf6Q8OCrP-",
        "colab_type": "code",
        "colab": {}
      },
      "source": [
        "O = N.T\n",
        "print(O)"
      ],
      "execution_count": 0,
      "outputs": []
    },
    {
      "cell_type": "code",
      "metadata": {
        "id": "lXO22NQzC8Ze",
        "colab_type": "code",
        "colab": {}
      },
      "source": [
        "P = O.reshape(20,1)"
      ],
      "execution_count": 0,
      "outputs": []
    },
    {
      "cell_type": "code",
      "metadata": {
        "id": "8kK3K-yvDI8B",
        "colab_type": "code",
        "colab": {}
      },
      "source": [
        "print(P)"
      ],
      "execution_count": 0,
      "outputs": []
    },
    {
      "cell_type": "code",
      "metadata": {
        "id": "N0qWQbaHDLp-",
        "colab_type": "code",
        "colab": {}
      },
      "source": [
        "A = np.arange(5)"
      ],
      "execution_count": 0,
      "outputs": []
    },
    {
      "cell_type": "code",
      "metadata": {
        "id": "0MoSwEaMLzH9",
        "colab_type": "code",
        "colab": {}
      },
      "source": [
        "B = np.arange(5)"
      ],
      "execution_count": 0,
      "outputs": []
    },
    {
      "cell_type": "code",
      "metadata": {
        "id": "P8FsgXUaL2Se",
        "colab_type": "code",
        "colab": {}
      },
      "source": [
        "C = A+B\n",
        "D = A-B\n",
        "E = A*B"
      ],
      "execution_count": 0,
      "outputs": []
    },
    {
      "cell_type": "code",
      "metadata": {
        "id": "tuB7_vRkL5Ht",
        "colab_type": "code",
        "colab": {}
      },
      "source": [
        "print(C,D,E)"
      ],
      "execution_count": 0,
      "outputs": []
    },
    {
      "cell_type": "code",
      "metadata": {
        "id": "vjkdCWinMCxG",
        "colab_type": "code",
        "colab": {}
      },
      "source": [
        "print(A,A+1)"
      ],
      "execution_count": 0,
      "outputs": []
    },
    {
      "cell_type": "code",
      "metadata": {
        "id": "NfHgdXLtMU2Y",
        "colab_type": "code",
        "colab": {}
      },
      "source": [
        "u = [2,3,4]\n",
        "v = [-1,0,1]\n",
        "p1 = np.inner(u,v)\n",
        "print(p1)"
      ],
      "execution_count": 0,
      "outputs": []
    },
    {
      "cell_type": "code",
      "metadata": {
        "id": "ebxxNOCwNsGe",
        "colab_type": "code",
        "colab": {}
      },
      "source": [
        "p2 = np.outer(u,v)\n",
        "print(p2)"
      ],
      "execution_count": 0,
      "outputs": []
    },
    {
      "cell_type": "code",
      "metadata": {
        "id": "QQoX_1u6Nxen",
        "colab_type": "code",
        "colab": {}
      },
      "source": [
        "p3 = np.ones((2,3))\n",
        "p4 = np.ones((3,2))\n",
        "np.dot(p3,p4)"
      ],
      "execution_count": 0,
      "outputs": []
    },
    {
      "cell_type": "code",
      "metadata": {
        "id": "M2dIWoK5OBZV",
        "colab_type": "code",
        "colab": {}
      },
      "source": [
        "p5 = np.ones((3,3))\n",
        "print(p5)"
      ],
      "execution_count": 0,
      "outputs": []
    },
    {
      "cell_type": "code",
      "metadata": {
        "id": "GORxVHseOPgL",
        "colab_type": "code",
        "colab": {}
      },
      "source": [
        "print(p5.sum())"
      ],
      "execution_count": 0,
      "outputs": []
    },
    {
      "cell_type": "code",
      "metadata": {
        "id": "IcI3yIlSOTkP",
        "colab_type": "code",
        "colab": {}
      },
      "source": [
        "print(p5.sum(axis = 1))"
      ],
      "execution_count": 0,
      "outputs": []
    },
    {
      "cell_type": "code",
      "metadata": {
        "id": "fhZdCgE0Ohoj",
        "colab_type": "code",
        "colab": {}
      },
      "source": [
        "p5.max()"
      ],
      "execution_count": 0,
      "outputs": []
    },
    {
      "cell_type": "markdown",
      "metadata": {
        "id": "IDRUmqcsOrVM",
        "colab_type": "text"
      },
      "source": [
        "# Plotting"
      ]
    },
    {
      "cell_type": "code",
      "metadata": {
        "id": "VDTOmNm4Z_qp",
        "colab_type": "code",
        "colab": {}
      },
      "source": [
        "import matplotlib.pyplot as plt"
      ],
      "execution_count": 0,
      "outputs": []
    },
    {
      "cell_type": "code",
      "metadata": {
        "id": "HuczZBxPqNx-",
        "colab_type": "code",
        "colab": {}
      },
      "source": [
        "X = np.random.random((10,1))\n",
        "print(X)"
      ],
      "execution_count": 0,
      "outputs": []
    },
    {
      "cell_type": "code",
      "metadata": {
        "id": "k6jY9454ql_N",
        "colab_type": "code",
        "colab": {}
      },
      "source": [
        "plt.plot(X,'*-')\n",
        "plt.show()"
      ],
      "execution_count": 0,
      "outputs": []
    },
    {
      "cell_type": "code",
      "metadata": {
        "id": "aLpk6sgXxNjb",
        "colab_type": "code",
        "colab": {}
      },
      "source": [
        "Y = np.linspace(0,10,100)"
      ],
      "execution_count": 0,
      "outputs": []
    },
    {
      "cell_type": "code",
      "metadata": {
        "id": "Qjfp4igAxvRb",
        "colab_type": "code",
        "colab": {}
      },
      "source": [
        "Z = np.power(Y,0.5)"
      ],
      "execution_count": 0,
      "outputs": []
    },
    {
      "cell_type": "code",
      "metadata": {
        "id": "BbJ8JhfyyEDl",
        "colab_type": "code",
        "colab": {}
      },
      "source": [
        "plt.plot(Y,Z)\n",
        "plt.show()"
      ],
      "execution_count": 0,
      "outputs": []
    },
    {
      "cell_type": "code",
      "metadata": {
        "id": "ZUrK3y-zyKag",
        "colab_type": "code",
        "colab": {}
      },
      "source": [
        "import seaborn as sns"
      ],
      "execution_count": 0,
      "outputs": []
    },
    {
      "cell_type": "code",
      "metadata": {
        "id": "jXSB4kKhzEiY",
        "colab_type": "code",
        "colab": {}
      },
      "source": [
        "sns.set()"
      ],
      "execution_count": 0,
      "outputs": []
    },
    {
      "cell_type": "code",
      "metadata": {
        "id": "OY8oWwnVzN90",
        "colab_type": "code",
        "colab": {}
      },
      "source": [
        "sns.lineplot(Y,Z)\n",
        "plt.show()"
      ],
      "execution_count": 0,
      "outputs": []
    }
  ]
}